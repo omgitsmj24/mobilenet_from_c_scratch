{
 "cells": [
  {
   "attachments": {},
   "cell_type": "markdown",
   "metadata": {},
   "source": [
    "# PILLOW"
   ]
  },
  {
   "cell_type": "code",
   "execution_count": 18,
   "metadata": {},
   "outputs": [
    {
     "name": "stdout",
     "output_type": "stream",
     "text": [
      "max value of output_data:  220\n",
      "Index of output_data:  114\n",
      "Label of output_data:  snail\n"
     ]
    }
   ],
   "source": [
    "import numpy as np\n",
    "import tensorflow as tf\n",
    "from PIL import Image\n",
    "import cv2\n",
    "from IPython.display import display\n",
    "import sys\n",
    "import pandas as pd\n",
    "\n",
    "# np.set_printoptions(threshold=sys.maxsize)   \n",
    "\n",
    "# Load the TFLite model and allocate tensors.\n",
    "interpreter = tf.lite.Interpreter(model_path=\"/home/hoangth34/mobilenet_from_c_scratch/v3-large-minimalistic_224_1.0_uint8/v3-large-minimalistic_224_1.0_uint8.tflite\")\n",
    "interpreter.allocate_tensors()\n",
    "\n",
    "# Get input and output tensors.\n",
    "input_details = interpreter.get_input_details()\n",
    "output_details = interpreter.get_output_details()\n",
    "\n",
    "# Test the model on random input data.\n",
    "image_path = \"Snail.jpg\"\n",
    "input_shape = input_details[0]['shape']\n",
    "image = Image.open(image_path)\n",
    "image = image.resize((224,224))\n",
    "input_data_pil = np.expand_dims(np.array(image), 0)\n",
    "interpreter.set_tensor(input_details[0]['index'], input_data_pil)\n",
    "\n",
    "interpreter.invoke()\n",
    "\n",
    "# The function `get_tensor()` returns a copy of the tensor data.\n",
    "# Use `tensor()` in order to get a pointer to the tensor.\n",
    "output_data = interpreter.get_tensor(output_details[0]['index'])\n",
    "\n",
    "# Get Labels\n",
    "with open(\"mobilenet_labels.txt\", \"r\") as f:\n",
    "    labels = [line.strip() for line in f.readlines()]\n",
    "len(labels)\n",
    "\n",
    "print(\"max value of output_data: \", output_data.max())\n",
    "print(\"Index of output_data: \", max(output_data).argmax())\n",
    "print(\"Label of output_data: \", labels[max(output_data).argmax()])"
   ]
  },
  {
   "cell_type": "markdown",
   "metadata": {},
   "source": [
    "# OPENCV"
   ]
  },
  {
   "cell_type": "code",
   "execution_count": 19,
   "metadata": {},
   "outputs": [
    {
     "name": "stdout",
     "output_type": "stream",
     "text": [
      "max value of output_data_cv2:  239\n",
      "Index of output_data_cv2:  114\n",
      "Label of output_data_cv2:  snail\n"
     ]
    }
   ],
   "source": [
    "img_cv2 = cv2.imread(image_path)\n",
    "img_cv2 = cv2.resize(img_cv2, (224,224))\n",
    "\n",
    "img_cv2_rgb = cv2.cvtColor(img_cv2, cv2.COLOR_BGR2RGB)\n",
    "input_data_cv2 = np.expand_dims(img_cv2_rgb, 0)\n",
    "interpreter.set_tensor(input_details[0]['index'], input_data_cv2)\n",
    "\n",
    "interpreter.invoke()\n",
    "\n",
    "output_data_cv2 = interpreter.get_tensor(output_details[0]['index'])\n",
    "print(\"max value of output_data_cv2: \", output_data_cv2.max())\n",
    "print(\"Index of output_data_cv2: \", max(output_data_cv2).argmax())\n",
    "print(\"Label of output_data_cv2: \", labels[max(output_data_cv2).argmax()])"
   ]
  },
  {
   "cell_type": "code",
   "execution_count": 22,
   "metadata": {},
   "outputs": [
    {
     "name": "stdout",
     "output_type": "stream",
     "text": [
      "[[0 0 0 ... 0 0 0]]\n"
     ]
    }
   ],
   "source": [
    "print(output_data)"
   ]
  }
 ],
 "metadata": {
  "kernelspec": {
   "display_name": "Python 3",
   "language": "python",
   "name": "python3"
  },
  "language_info": {
   "codemirror_mode": {
    "name": "ipython",
    "version": 3
   },
   "file_extension": ".py",
   "mimetype": "text/x-python",
   "name": "python",
   "nbconvert_exporter": "python",
   "pygments_lexer": "ipython3",
   "version": "3.10.4 (main, Mar  3 2023, 18:29:12) [GCC 9.4.0]"
  },
  "orig_nbformat": 4,
  "vscode": {
   "interpreter": {
    "hash": "3ad933181bd8a04b432d3370b9dc3b0662ad032c4dfaa4e4f1596c548f763858"
   }
  }
 },
 "nbformat": 4,
 "nbformat_minor": 2
}
