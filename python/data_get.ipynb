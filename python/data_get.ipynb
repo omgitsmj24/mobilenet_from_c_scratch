{
 "cells": [
  {
   "cell_type": "code",
   "execution_count": 1,
   "metadata": {},
   "outputs": [],
   "source": [
    "import numpy as np\n",
    "import os\n",
    "import sys\n",
    "from IPython.display import display\n",
    "np.set_printoptions(threshold=sys.maxsize)   "
   ]
  },
  {
   "cell_type": "code",
   "execution_count": 11,
   "metadata": {},
   "outputs": [],
   "source": [
    "weight = np.load(\"weights/conv2d_1_weights.npy\")\n",
    "weight = weight.transpose(1,2,3,0)\n",
    "\n",
    "bias = np.load(\"weights/conv2d_6_biases.npy\")\n",
    "\n",
    "weight_as_string = str(weight.tolist())\n",
    "weight_as_string = weight_as_string.replace(\"[\", \"{\")\n",
    "weight_as_string = weight_as_string.replace(\"]\", \"}\")\n",
    "name_of_weight = \"extern int\" + \" \" + 'conv2d_1_weights' + \"[\" + str(weight.shape[0]) + \"]\" + \"[\" + str(weight.shape[1]) + \"]\" + \"[\" + str(weight.shape[2]) + \"]\" + \"[\" + str(weight.shape[3]) + \"]\" + \" = \"\n",
    "\n",
    "bias_as_string = str(bias.tolist())\n",
    "bias_as_string = bias_as_string.replace(\"[\", \"{\")\n",
    "bias_as_string = bias_as_string.replace(\"]\", \"}\")\n",
    "name_of_bias = \"extern int\" + \" \" + 'conv2d_1_biases' + \"[\" + str(bias.shape[0]) + \"]\" + \" = \"\n",
    "\n",
    "with open ('weights.h', 'w') as f:\n",
    "    f.write(name_of_weight + weight_as_string +\"; \\n\")\n",
    "    f.write(name_of_bias + bias_as_string +\"; \\n \\n\")\n",
    "\n",
    "# with open ('conv2d_1_weight.txt', 'w') as f:\n",
    "#     f.write(name_of_weight + weight_as_string)\n",
    "# with open (\"conv2d_1_biases.txt\", 'w') as f:\n",
    "#     f.write(name_of_bias + bias_as_string)"
   ]
  },
  {
   "cell_type": "code",
   "execution_count": 15,
   "metadata": {},
   "outputs": [],
   "source": [
    "# List through files directory containing weights and biases in numpy format,\n",
    "# If the file name contains \"weights\", load it from numpy and transpose it into (1,2,3,0) and assign it a variable whose name is the file name without \".npy\" \n",
    "# Similarly for bias but instead of tranpose we flatten the np array\n",
    "with open ('weights.h', 'a') as f:\n",
    "    f.write(\"#ifndef WEIGHTS_NEW \\n#define WEIGHTS_NEW \\n \\n\")\n",
    "\n",
    "def get_weight_bias():\n",
    "    for file in os.listdir(\"weights\"):\n",
    "        if file.endswith(\".npy\"):\n",
    "            if \"weights\" in file:\n",
    "                weight = np.load(\"weights/\" + file)\n",
    "                weight = weight.transpose(1,2,3,0)\n",
    "                weight_as_string = str(weight.tolist())\n",
    "                weight_as_string = weight_as_string.replace(\"[\", \"{\")\n",
    "                weight_as_string = weight_as_string.replace(\"]\", \"}\")\n",
    "                name_of_weight = \"extern int\" + \" \" + file[:-4] + \"[\" + str(weight.shape[0]) + \"]\" + \"[\" + str(weight.shape[1]) + \"]\" + \"[\" + str(weight.shape[2]) + \"]\" + \"[\" + str(weight.shape[3]) + \"]\" + \" = \"\n",
    "                with open ('weights.h', 'a') as f:\n",
    "                    f.write(name_of_weight + weight_as_string +\"; \\n\")\n",
    "            elif \"biases\" in file:\n",
    "                bias = np.load(\"weights/\" + file)\n",
    "                bias_as_string = str(bias.tolist())\n",
    "                bias_as_string = bias_as_string.replace(\"[\", \"{\")\n",
    "                bias_as_string = bias_as_string.replace(\"]\", \"}\")\n",
    "                name_of_bias = \"extern int\" + \" \" + file[:-4] + \"[\" + str(bias.shape[0]) + \"]\" + \" = \"\n",
    "                with open ('weights.h', 'a') as f:\n",
    "                    f.write(name_of_bias + bias_as_string +\"; \\n\")\n",
    "\n",
    "get_weight_bias()\n",
    "\n",
    "with open ('weights.h', 'a') as f:\n",
    "    f.write(\"\\n#endif\")\n",
    "    \n",
    "# get_weight_bias()"
   ]
  },
  {
   "cell_type": "code",
   "execution_count": 18,
   "metadata": {},
   "outputs": [
    {
     "name": "stdout",
     "output_type": "stream",
     "text": [
      "#\n"
     ]
    }
   ],
   "source": [
    "with open('/home/hoangth34/mobilenet_from_c_scratch/components/weights/main_with_weights.c', 'w') as file :\n",
    "  file.write('#include \"weights.h\" \\n')\n",
    "  \n",
    "  "
   ]
  }
 ],
 "metadata": {
  "kernelspec": {
   "display_name": "base",
   "language": "python",
   "name": "python3"
  },
  "language_info": {
   "codemirror_mode": {
    "name": "ipython",
    "version": 3
   },
   "file_extension": ".py",
   "mimetype": "text/x-python",
   "name": "python",
   "nbconvert_exporter": "python",
   "pygments_lexer": "ipython3",
   "version": "3.8.3 (default, Jul  2 2020, 16:21:59) \n[GCC 7.3.0]"
  },
  "orig_nbformat": 4,
  "vscode": {
   "interpreter": {
    "hash": "54c1a4e1b0385de9a983362fe3ea38ad87103b7404e1b180ee0a3aeac2f1a103"
   }
  }
 },
 "nbformat": 4,
 "nbformat_minor": 2
}
