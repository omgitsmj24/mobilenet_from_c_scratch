{
 "cells": [
  {
   "cell_type": "code",
   "execution_count": 72,
   "metadata": {},
   "outputs": [
    {
     "data": {
      "text/plain": [
       "array([ -2988,   9228,  -5049,  -9035,   6511, -12274,   3184,   4182,\n",
       "        -7170,   3326,   -161,  -1208,   -799, -11915,  -5010,  12526,\n",
       "        -1192,   -166,  -2875,  -2186,      7,   2691,   7583,   6073,\n",
       "        -8915,   -899, -12176,    999,    334,  -8398,    510,   6324,\n",
       "        -1199,   3093,  -6895,   4763,  -1044,   6646, -11495,   4548],\n",
       "      dtype=int32)"
      ]
     },
     "execution_count": 72,
     "metadata": {},
     "output_type": "execute_result"
    }
   ],
   "source": [
    "import numpy as np\n",
    "import os\n",
    "import sys\n",
    "np.set_printoptions(threshold=sys.maxsize)\n",
    "\n",
    "def show_weights(weights_path, biases_path):\n",
    "    weight = np.load(weights_path)\n",
    "    weight = weight.transpose(1,2,3,0)\n",
    "    \n",
    "    bias = np.load(biases_path)\n",
    "    bias = bias.flatten()\n",
    "    \n",
    "    return weight, bias\n",
    "    \n",
    "\n",
    "weight = np.load(\"weights/conv2d_6_weights.npy\")\n",
    "weight = weight.transpose(1,2,3,0)\n",
    "# conv2d_1_weight = conv2d_1_weight.flatten()\n",
    "\n",
    "bias = np.load(\"weights/conv2d_6_biases.npy\")\n",
    "bias = bias.flatten()\n",
    "\n",
    "# weight\n",
    "# # # print(\"\\n\")\n",
    "# bias"
   ]
  },
  {
   "cell_type": "code",
   "execution_count": null,
   "metadata": {},
   "outputs": [],
   "source": []
  }
 ],
 "metadata": {
  "kernelspec": {
   "display_name": "base",
   "language": "python",
   "name": "python3"
  },
  "language_info": {
   "codemirror_mode": {
    "name": "ipython",
    "version": 3
   },
   "file_extension": ".py",
   "mimetype": "text/x-python",
   "name": "python",
   "nbconvert_exporter": "python",
   "pygments_lexer": "ipython3",
   "version": "3.8.3"
  },
  "orig_nbformat": 4,
  "vscode": {
   "interpreter": {
    "hash": "54c1a4e1b0385de9a983362fe3ea38ad87103b7404e1b180ee0a3aeac2f1a103"
   }
  }
 },
 "nbformat": 4,
 "nbformat_minor": 2
}
