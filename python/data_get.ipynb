{
 "cells": [
  {
   "cell_type": "code",
   "execution_count": 3,
   "metadata": {},
   "outputs": [],
   "source": [
    "import numpy as np\n",
    "import tensorflow as tf\n",
    "import os\n",
    "import sys\n",
    "import cv2\n",
    "from IPython.display import display\n",
    "np.set_printoptions(threshold=sys.maxsize)   "
   ]
  },
  {
   "cell_type": "code",
   "execution_count": 15,
   "metadata": {},
   "outputs": [],
   "source": [
    "# List through files directory containing weights and biases in numpy format,\n",
    "# If the file name contains \"weights\", load it from numpy and transpose it into (1,2,3,0) and assign it a variable whose name is the file name without \".npy\" \n",
    "# Similarly for bias files \n",
    "with open ('weights.h', 'a') as f:\n",
    "    f.write(\"#ifndef WEIGHTS_NEW \\n#define WEIGHTS_NEW \\n \\n\")\n",
    "\n",
    "def get_weight_bias():\n",
    "    for file in os.listdir(\"weights\"):\n",
    "        if file.endswith(\".npy\"):\n",
    "            if \"weights\" in file:\n",
    "                weight = np.load(\"weights/\" + file)\n",
    "                weight = weight.transpose(1,2,3,0)\n",
    "                weight_as_string = str(weight.tolist())\n",
    "                weight_as_string = weight_as_string.replace(\"[\", \"{\")\n",
    "                weight_as_string = weight_as_string.replace(\"]\", \"}\")\n",
    "                name_of_weight = \"extern int\" + \" \" + file[:-4] + \"[\" + str(weight.shape[0]) + \"]\" + \"[\" + str(weight.shape[1]) + \"]\" + \"[\" + str(weight.shape[2]) + \"]\" + \"[\" + str(weight.shape[3]) + \"]\" + \" = \"\n",
    "                with open ('weights.h', 'a') as f:\n",
    "                    f.write(name_of_weight + weight_as_string +\"; \\n\")\n",
    "            elif \"biases\" in file:\n",
    "                bias = np.load(\"weights/\" + file)\n",
    "                bias_as_string = str(bias.tolist())\n",
    "                bias_as_string = bias_as_string.replace(\"[\", \"{\")\n",
    "                bias_as_string = bias_as_string.replace(\"]\", \"}\")\n",
    "                name_of_bias = \"extern int\" + \" \" + file[:-4] + \"[\" + str(bias.shape[0]) + \"]\" + \" = \"\n",
    "                with open ('weights.h', 'a') as f:\n",
    "                    f.write(name_of_bias + bias_as_string +\"; \\n\")\n",
    "\n",
    "get_weight_bias()\n",
    "\n",
    "with open ('weights.h', 'a') as f:\n",
    "    f.write(\"\\n#endif\")\n",
    "    \n",
    "# get_weight_bias()"
   ]
  },
  {
   "cell_type": "markdown",
   "metadata": {},
   "source": [
    "# Input"
   ]
  },
  {
   "cell_type": "code",
   "execution_count": 8,
   "metadata": {},
   "outputs": [
    {
     "name": "stdout",
     "output_type": "stream",
     "text": [
      "(224, 224, 3)\n"
     ]
    }
   ],
   "source": [
    "input = cv2.imread(\"sample_data/Snail.jpg\")\n",
    "input = cv2.resize(input, (224,224))\n",
    "print(input.shape)\n",
    "input_as_string = str(input.tolist())\n",
    "input_as_string = input_as_string.replace(\"[\", \"{\")\n",
    "input_as_string = input_as_string.replace(\"]\", \"}\")\n",
    "name_of_input = \"extern int\" + \" \" + \"input\" + \"[\" + str(input.shape[0]) + \"]\" + \"[\" + str(input.shape[1]) + \"]\" + \"[\" + str(input.shape[2]) + \"]\" + \" = \"\n",
    "with open ('input.h', 'a') as f:\n",
    "    f.write(name_of_input + input_as_string +\"; \\n\")"
   ]
  },
  {
   "cell_type": "code",
   "execution_count": null,
   "metadata": {},
   "outputs": [],
   "source": []
  }
 ],
 "metadata": {
  "kernelspec": {
   "display_name": "tf",
   "language": "python",
   "name": "python3"
  },
  "language_info": {
   "codemirror_mode": {
    "name": "ipython",
    "version": 3
   },
   "file_extension": ".py",
   "mimetype": "text/x-python",
   "name": "python",
   "nbconvert_exporter": "python",
   "pygments_lexer": "ipython3",
   "version": "3.10.4"
  },
  "orig_nbformat": 4,
  "vscode": {
   "interpreter": {
    "hash": "7b61532a48c5b02628584c4b1b9ccddc712c79562ef0f1474c7ed71ba4d9ff18"
   }
  }
 },
 "nbformat": 4,
 "nbformat_minor": 2
}
