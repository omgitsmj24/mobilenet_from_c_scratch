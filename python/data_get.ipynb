{
 "cells": [
  {
   "cell_type": "code",
   "execution_count": 1,
   "metadata": {},
   "outputs": [],
   "source": [
    "import numpy as np\n",
    "# import cv2\n",
    "import matplotlib.pyplot as plt\n",
    "import json\n",
    "import ctypes"
   ]
  },
  {
   "cell_type": "code",
   "execution_count": 3,
   "metadata": {},
   "outputs": [],
   "source": [
    "conv2d_1_weight = np.load(\"weights/pw1/pw1_weights.npy\")\n",
    "conv2d_1_weight = conv2d_1_weight.transpose(1,2,3,0)\n",
    "# conv2d_1_weight = conv2d_1_weight.flatten()\n",
    "\n",
    "conv2d_1_bias = np.load(\"weights/pw1/pw1_biases.npy\")\n",
    "conv2d_1_bias = conv2d_1_bias.flatten()\n",
    "\n",
    "# conv2d_1_list = conv2d_1_weight.tolist()"
   ]
  },
  {
   "cell_type": "code",
   "execution_count": 5,
   "metadata": {},
   "outputs": [
    {
     "data": {
      "text/plain": [
       "array([-1216,  1775, -2946,  1438,   641, -1661,    93,   -12,  -526,\n",
       "       -1211,  -425,  1235,   -68,   808,  2811, -1222], dtype=int32)"
      ]
     },
     "execution_count": 5,
     "metadata": {},
     "output_type": "execute_result"
    }
   ],
   "source": [
    "conv2d_1_bias"
   ]
  }
 ],
 "metadata": {
  "kernelspec": {
   "display_name": "base",
   "language": "python",
   "name": "python3"
  },
  "language_info": {
   "codemirror_mode": {
    "name": "ipython",
    "version": 3
   },
   "file_extension": ".py",
   "mimetype": "text/x-python",
   "name": "python",
   "nbconvert_exporter": "python",
   "pygments_lexer": "ipython3",
   "version": "3.10.4"
  },
  "orig_nbformat": 4,
  "vscode": {
   "interpreter": {
    "hash": "54c1a4e1b0385de9a983362fe3ea38ad87103b7404e1b180ee0a3aeac2f1a103"
   }
  }
 },
 "nbformat": 4,
 "nbformat_minor": 2
}
